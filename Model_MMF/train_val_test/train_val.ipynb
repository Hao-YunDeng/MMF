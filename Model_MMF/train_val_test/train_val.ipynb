{
 "cells": [
  {
   "cell_type": "code",
   "execution_count": 1,
   "id": "77f62402",
   "metadata": {},
   "outputs": [],
   "source": [
    "from mmf_cli.run import run"
   ]
  },
  {
   "cell_type": "code",
   "execution_count": null,
   "id": "539704c5",
   "metadata": {},
   "outputs": [],
   "source": [
    "opts = [\n",
    "        \"config=/configs/experiment_config.yaml\",\n",
    "        \"model=concat_vl\",\n",
    "        \"dataset=hateful_memes_databuilder\",\n",
    "        \"training.log_interval=10\",\n",
    "        \"training.batch_size=8\",\n",
    "        \"training.max_updates=100\",\n",
    "        # Head is in dangling state, ignore git details in checkpoints\n",
    "        \"checkpoint.save_git_details=False\",\n",
    "]\n",
    "\n",
    "\n",
    "run(opts)"
   ]
  },
  {
   "cell_type": "code",
   "execution_count": null,
   "id": "2a79c37d",
   "metadata": {},
   "outputs": [],
   "source": [
    "opts = [\n",
    "        \"config=/configs/experiment_config.yaml\",\n",
    "        \"model=concat_vl\",\n",
    "        \"dataset=hateful_memes_databuilder\",\n",
    "        \"run_type=val\",\n",
    "        \"training.batch_size=8\",\n",
    "        \"checkpoint.resume_file=okvqa_mmft.ckpt\",\n",
    "        # Head is in dangling state, ignore git details in checkpoints\n",
    "        \"checkpoint.save_git_details=False\",\n",
    "]\n",
    "\n",
    "\n",
    "run(opts)"
   ]
  }
 ],
 "metadata": {
  "kernelspec": {
   "display_name": "Python [conda env:MMF_Env]",
   "language": "python",
   "name": "conda-env-MMF_Env-py"
  },
  "language_info": {
   "codemirror_mode": {
    "name": "ipython",
    "version": 3
   },
   "file_extension": ".py",
   "mimetype": "text/x-python",
   "name": "python",
   "nbconvert_exporter": "python",
   "pygments_lexer": "ipython3",
   "version": "3.9.12"
  },
  "toc": {
   "base_numbering": 1,
   "nav_menu": {},
   "number_sections": true,
   "sideBar": true,
   "skip_h1_title": false,
   "title_cell": "Table of Contents",
   "title_sidebar": "Contents",
   "toc_cell": false,
   "toc_position": {},
   "toc_section_display": true,
   "toc_window_display": false
  }
 },
 "nbformat": 4,
 "nbformat_minor": 5
}
