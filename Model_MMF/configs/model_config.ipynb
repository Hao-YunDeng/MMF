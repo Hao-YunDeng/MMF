{
 "cells": [
  {
   "cell_type": "code",
   "execution_count": 1,
   "id": "e3640277",
   "metadata": {},
   "outputs": [],
   "source": [
    "import yaml"
   ]
  },
  {
   "cell_type": "code",
   "execution_count": 2,
   "id": "825c4078",
   "metadata": {},
   "outputs": [],
   "source": [
    "config = \"\"\"\n",
    "model_config:\n",
    "  concat_vl:\n",
    "    num_classes: 2\n",
    "    dropout: 0.1\n",
    "    image_encoder:\n",
    "      type: resnet152\n",
    "      params:\n",
    "        pretrained: true\n",
    "        pool_type: avg\n",
    "        num_output_features: 1\n",
    "    text_encoder:\n",
    "      params:\n",
    "        module: linear\n",
    "        in_dim: 300\n",
    "        out_dim: 300\n",
    "    fusion:\n",
    "      params:\n",
    "        # Visual Dim (2048) + Text Dim (300)\n",
    "        # Follow the API of nn.Linear\n",
    "        in_features: 2348\n",
    "        out_features: 512\n",
    "    losses:\n",
    "    - cross_entropy\n",
    "    classifier:\n",
    "      type: mlp\n",
    "      params:\n",
    "        in_dim: 512\n",
    "        out_dim: ${model_config.concat_vl.num_classes}\n",
    "        num_layers: 0\n",
    "\"\"\""
   ]
  },
  {
   "cell_type": "code",
   "execution_count": 3,
   "id": "05b38309",
   "metadata": {},
   "outputs": [
    {
     "name": "stdout",
     "output_type": "stream",
     "text": [
      "model_config:\n",
      "  concat_vl:\n",
      "    classifier:\n",
      "      params:\n",
      "        in_dim: 512\n",
      "        num_layers: 0\n",
      "        out_dim: ${model_config.concat_vl.num_classes}\n",
      "      type: mlp\n",
      "    dropout: 0.1\n",
      "    fusion:\n",
      "      params:\n",
      "        in_features: 2348\n",
      "        out_features: 512\n",
      "    image_encoder:\n",
      "      params:\n",
      "        num_output_features: 1\n",
      "        pool_type: avg\n",
      "        pretrained: true\n",
      "      type: resnet152\n",
      "    losses:\n",
      "    - cross_entropy\n",
      "    num_classes: 2\n",
      "    text_encoder:\n",
      "      params:\n",
      "        in_dim: 300\n",
      "        module: linear\n",
      "        out_dim: 300\n",
      "\n"
     ]
    }
   ],
   "source": [
    "config_yaml = yaml.safe_load(config)\n",
    "\n",
    "with open('model_config.yaml', 'w') as file:\n",
    "    yaml.dump(config_yaml, file)\n",
    "\n",
    "print(open('model_config.yaml').read())"
   ]
  },
  {
   "cell_type": "code",
   "execution_count": 4,
   "id": "8b4728e1",
   "metadata": {},
   "outputs": [],
   "source": [
    "# Model config provides the defaults for model’s hyperparameters.\n",
    "\n",
    "# Config's image_encoder attribute will used to build an MMF image encoder. \n",
    "# This config in yaml will look like:\n",
    "\n",
    "# # \"type\" parameter specifies the type of encoder we are using here.\n",
    "# # In this particular case, we are using resnet152\n",
    "\n",
    "# type: resnet152\n",
    "\n",
    "# # Parameters are passed to underlying encoder class by\n",
    "# # build_image_encoder\n",
    "\n",
    "# params:\n",
    "#  # Specifies whether to use a pretrained version\n",
    "#  pretrained: true\n",
    "#  # Pooling type, use max to use AdaptiveMaxPool2D\n",
    "#  pool_type: avg\n",
    "\n",
    "#  # Number of output features from the encoder, -1 for original\n",
    "#  # otherwise, supports between 1 to 9\n",
    "#  num_output_features: 1\n",
    " \n",
    "# For classifer, configuration would look like:\n",
    "# # Specifies the type of the classifier, in this case mlp\n",
    "# type: mlp\n",
    "# # Parameter to the classifier passed through build_classifier_layer\n",
    "# params:\n",
    "#  # Dimension of the tensor coming into the classifier\n",
    "#  in_dim: 512\n",
    "#  # Dimension of the tensor going out of the classifier\n",
    "#  out_dim: 2\n",
    "#  # Number of MLP layers in the classifier\n",
    "#  num_layers: 0"
   ]
  },
  {
   "cell_type": "code",
   "execution_count": null,
   "id": "a3787b7b",
   "metadata": {},
   "outputs": [],
   "source": []
  }
 ],
 "metadata": {
  "kernelspec": {
   "display_name": "Python [conda env:MMF_Env]",
   "language": "python",
   "name": "conda-env-MMF_Env-py"
  },
  "language_info": {
   "codemirror_mode": {
    "name": "ipython",
    "version": 3
   },
   "file_extension": ".py",
   "mimetype": "text/x-python",
   "name": "python",
   "nbconvert_exporter": "python",
   "pygments_lexer": "ipython3",
   "version": "3.9.12"
  },
  "toc": {
   "base_numbering": 1,
   "nav_menu": {},
   "number_sections": true,
   "sideBar": true,
   "skip_h1_title": false,
   "title_cell": "Table of Contents",
   "title_sidebar": "Contents",
   "toc_cell": false,
   "toc_position": {},
   "toc_section_display": true,
   "toc_window_display": false
  }
 },
 "nbformat": 4,
 "nbformat_minor": 5
}
