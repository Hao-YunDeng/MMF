{
 "cells": [
  {
   "cell_type": "code",
   "execution_count": 1,
   "id": "6b3eeb5a",
   "metadata": {},
   "outputs": [],
   "source": [
    "import yaml"
   ]
  },
  {
   "cell_type": "code",
   "execution_count": 2,
   "id": "864b1be7",
   "metadata": {},
   "outputs": [],
   "source": [
    "config = \"\"\"\n",
    "dataset_config:\n",
    "  hateful_memes:\n",
    "    processors:\n",
    "      text_processor:\n",
    "        type: fasttext_sentence_vector\n",
    "        params:\n",
    "          max_length: null\n",
    "          model_file: wiki.en.bin\n",
    "\n",
    "optimizer:\n",
    "  type: adam_w\n",
    "  params:\n",
    "    lr: 5e-5\n",
    "    eps: 1e-8\n",
    "\n",
    "scheduler:\n",
    "  type: warmup_linear\n",
    "  params:\n",
    "    num_warmup_steps: 2000\n",
    "    num_training_steps: ${training.max_updates}\n",
    "\n",
    "evaluation:\n",
    "  metrics:\n",
    "  - accuracy\n",
    "  - binary_f1\n",
    "  - roc_auc\n",
    "\n",
    "training:\n",
    "  batch_size: 64\n",
    "  lr_scheduler: true\n",
    "  max_updates: 22000\n",
    "  find_unused_parameters: true\n",
    "  early_stop:\n",
    "    criteria: hateful_memes/roc_auc\n",
    "    minimize: false\n",
    "\"\"\""
   ]
  },
  {
   "cell_type": "code",
   "execution_count": 3,
   "id": "b42c1e15",
   "metadata": {},
   "outputs": [
    {
     "name": "stdout",
     "output_type": "stream",
     "text": [
      "dataset_config:\n",
      "  hateful_memes:\n",
      "    processors:\n",
      "      text_processor:\n",
      "        params:\n",
      "          max_length: null\n",
      "          model_file: wiki.en.bin\n",
      "        type: fasttext_sentence_vector\n",
      "evaluation:\n",
      "  metrics:\n",
      "  - accuracy\n",
      "  - binary_f1\n",
      "  - roc_auc\n",
      "optimizer:\n",
      "  params:\n",
      "    eps: 1e-8\n",
      "    lr: 5e-5\n",
      "  type: adam_w\n",
      "scheduler:\n",
      "  params:\n",
      "    num_training_steps: ${training.max_updates}\n",
      "    num_warmup_steps: 2000\n",
      "  type: warmup_linear\n",
      "training:\n",
      "  batch_size: 64\n",
      "  early_stop:\n",
      "    criteria: hateful_memes/roc_auc\n",
      "    minimize: false\n",
      "  find_unused_parameters: true\n",
      "  lr_scheduler: true\n",
      "  max_updates: 22000\n",
      "\n"
     ]
    }
   ],
   "source": [
    "config_yaml = yaml.safe_load(config)\n",
    "\n",
    "with open('experiment_config.yaml', 'w') as file:\n",
    "    yaml.dump(config_yaml, file)\n",
    "\n",
    "print(open('experiment_config.yaml').read())"
   ]
  },
  {
   "cell_type": "code",
   "execution_count": null,
   "id": "a5055cf5",
   "metadata": {},
   "outputs": [],
   "source": []
  }
 ],
 "metadata": {
  "kernelspec": {
   "display_name": "Python [conda env:MMF_Env]",
   "language": "python",
   "name": "conda-env-MMF_Env-py"
  },
  "language_info": {
   "codemirror_mode": {
    "name": "ipython",
    "version": 3
   },
   "file_extension": ".py",
   "mimetype": "text/x-python",
   "name": "python",
   "nbconvert_exporter": "python",
   "pygments_lexer": "ipython3",
   "version": "3.9.12"
  },
  "toc": {
   "base_numbering": 1,
   "nav_menu": {},
   "number_sections": true,
   "sideBar": true,
   "skip_h1_title": false,
   "title_cell": "Table of Contents",
   "title_sidebar": "Contents",
   "toc_cell": false,
   "toc_position": {},
   "toc_section_display": true,
   "toc_window_display": false
  }
 },
 "nbformat": 4,
 "nbformat_minor": 5
}
