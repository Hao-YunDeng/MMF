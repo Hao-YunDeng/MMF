{
 "cells": [
  {
   "cell_type": "code",
   "execution_count": 1,
   "id": "1da55bc3",
   "metadata": {},
   "outputs": [],
   "source": [
    "import torch\n",
    "\n",
    "from mmf.datasets.processors import FastTextProcessor\n",
    "from mmf.common.registry import registry"
   ]
  },
  {
   "cell_type": "code",
   "execution_count": 2,
   "id": "adb7277c",
   "metadata": {},
   "outputs": [],
   "source": [
    "@registry.register_processor(\"fasttext_sentence_vector\")\n",
    "class FastTextSentenceVectorProcessor(FastTextProcessor):\n",
    "    \"\"\"\n",
    "    MMF provides standard image and text encoders out of the box. \n",
    "    For image encoder, we will use ResNet101 image encoder. \n",
    "    For text encoder, we will use FastText embeddings. \n",
    "    FastText embeddings cannot be trained end-to-end with a model in this case. \n",
    "    So we will load the embeddings in the datasets itself by creating an MMF processor\n",
    "    and pass them through a fully-connected layer as a proxy for an encoder.\n",
    "\n",
    "    Processors can be thought of as torchvision transforms \n",
    "    which transform a sample into a form usable by the model. \n",
    "    Each processor takes in a dictionary and returns back a dictionary. \n",
    "    Processors are initialized as member variables of the dataset \n",
    "    and can be used while generating samples. \n",
    "    Fasttext processor is available in MMF but it returns word embeddings \n",
    "    instead of sentence embedding. \n",
    "    We will create a fasttext sentence processor here.\n",
    "    \"\"\"\n",
    "    def __call__(self, item):\n",
    "        if \"text\" in item:\n",
    "            text = item[\"text\"]\n",
    "        elif \"tokens\" in item:\n",
    "            text = \" \".join(item[\"tokens\"])\n",
    "            \n",
    "        #Haoyun: check FastTextProcessor.model, .model_file, \n",
    "        #and ._load_fasttext_model\n",
    "        \n",
    "        #Haoyun: how is sentence vector created from word embedding?\n",
    "        #FastTextProcessor must have .model.get_sentence_vector()\n",
    "        self._load_fastext_model(self.model_file)\n",
    "        sentence_vector = torch.tensor(\n",
    "            self.model.get_sentence_vector(text),\n",
    "            dtype=torch.float\n",
    "        )  \n",
    "        \n",
    "        return {\"text\": sentence_vector}\n",
    "    \n",
    "    def get_vocab_size(self):\n",
    "        return None"
   ]
  },
  {
   "cell_type": "code",
   "execution_count": null,
   "id": "6b7bcf6a",
   "metadata": {},
   "outputs": [],
   "source": []
  }
 ],
 "metadata": {
  "kernelspec": {
   "display_name": "Python [conda env:MMF_Env]",
   "language": "python",
   "name": "conda-env-MMF_Env-py"
  },
  "language_info": {
   "codemirror_mode": {
    "name": "ipython",
    "version": 3
   },
   "file_extension": ".py",
   "mimetype": "text/x-python",
   "name": "python",
   "nbconvert_exporter": "python",
   "pygments_lexer": "ipython3",
   "version": "3.9.12"
  },
  "toc": {
   "base_numbering": 1,
   "nav_menu": {},
   "number_sections": true,
   "sideBar": true,
   "skip_h1_title": false,
   "title_cell": "Table of Contents",
   "title_sidebar": "Contents",
   "toc_cell": false,
   "toc_position": {},
   "toc_section_display": true,
   "toc_window_display": false
  }
 },
 "nbformat": 4,
 "nbformat_minor": 5
}
