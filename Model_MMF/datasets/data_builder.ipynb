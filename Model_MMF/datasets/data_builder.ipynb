{
 "cells": [
  {
   "cell_type": "code",
   "execution_count": 1,
   "id": "3cff70b3",
   "metadata": {},
   "outputs": [],
   "source": [
    "from mmf.common.registry import registry\n",
    "from dataset import (\n",
    "    HatefulMemesFeaturesDataset,\n",
    "    HatefulMemesImageDataset\n",
    ")\n",
    "from mmf.datasets.mmf_dataset_builder import MMFDatasetBuilder\n",
    "from mmf.utils.configuration import get_mmf_env\n",
    "from mmf.utils.general import get_absolute_path\n",
    "from mmf.utils.file_io import PathManager\n",
    "import os"
   ]
  },
  {
   "cell_type": "code",
   "execution_count": 2,
   "id": "b0c7e63e",
   "metadata": {},
   "outputs": [],
   "source": [
    "@registry.register_builder(\"hateful_memes_data_builder\")\n",
    "class HatefulMemesBuilder(MMFDatasetBuilder):\n",
    "    def __init__(\n",
    "        self,\n",
    "        dataset_name=\"hateful_memes\", #??\n",
    "        dataset_class=HatefulMemesImageDataset,\n",
    "        *args,\n",
    "        **kargs\n",
    "    ):\n",
    "        super().__init__(dataset_name, dataset_class, *args, **kwargs)\n",
    "        self.dataset_class=HatefulMemesImageDataset\n",
    "        \n",
    "    @classmethod\n",
    "    def config_path(self):\n",
    "        return \"configs/dataset_config.yaml\"\n",
    "    \n",
    "    def load(self, config, dataset_type, *args, **kwargs):\n",
    "        config=config #??\n",
    "        if config.use_features:\n",
    "            self.dataset_class = HatefulMemesFeaturesDataset\n",
    "            \n",
    "        self.dataset = super().load(config, dataset_type, *args, **kargs)\n",
    "        \n",
    "        return self.dataset\n",
    "    \n",
    "    def build(self, config, *args, **kwargs):\n",
    "        #first, check whether manual downloads have been performed\n",
    "        data_dir = get_mmf_env(key=\"data_dir\") #??\n",
    "        test_path = get_absolute_path( #this is the path for data??\n",
    "            os.path.join(\n",
    "                data_dir,\n",
    "                \"datasets\",\n",
    "                self.dataset_name,\n",
    "                \"defaults\",\n",
    "                \"annotations\",\n",
    "                \"train.jasonl\"\n",
    "            )\n",
    "        )\n",
    "        \n",
    "        assert PathManager.exists(test_path), (f\"No hateful memes data found at {test_path}\")\n",
    "        super().builder(config, *args, **kwargs)\n",
    "        \n",
    "    def update_registry_for_model(self, config):\n",
    "        if hasattr(self.dataset, \"text_processor\") and hasattr(\n",
    "            self.dataset, \"get_vocab_size\"\n",
    "        ):\n",
    "            registry.register(\n",
    "                self.dataset_name + \"_text_vocab_size\",\n",
    "                self.dataset.text_processor.get_vocab_size()\n",
    "            )\n",
    "        \n",
    "        registry.register(self.dataset_name + \"_name_final_outputs\", 2)"
   ]
  },
  {
   "cell_type": "code",
   "execution_count": null,
   "id": "f4a0756b",
   "metadata": {},
   "outputs": [],
   "source": []
  }
 ],
 "metadata": {
  "kernelspec": {
   "display_name": "Python [conda env:MMF_Env]",
   "language": "python",
   "name": "conda-env-MMF_Env-py"
  },
  "language_info": {
   "codemirror_mode": {
    "name": "ipython",
    "version": 3
   },
   "file_extension": ".py",
   "mimetype": "text/x-python",
   "name": "python",
   "nbconvert_exporter": "python",
   "pygments_lexer": "ipython3",
   "version": "3.9.12"
  },
  "toc": {
   "base_numbering": 1,
   "nav_menu": {},
   "number_sections": true,
   "sideBar": true,
   "skip_h1_title": false,
   "title_cell": "Table of Contents",
   "title_sidebar": "Contents",
   "toc_cell": false,
   "toc_position": {},
   "toc_section_display": true,
   "toc_window_display": false
  }
 },
 "nbformat": 4,
 "nbformat_minor": 5
}
