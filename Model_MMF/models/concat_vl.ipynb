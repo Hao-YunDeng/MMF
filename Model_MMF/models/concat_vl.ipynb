{
 "cells": [
  {
   "cell_type": "code",
   "execution_count": 1,
   "id": "dedad06a",
   "metadata": {},
   "outputs": [],
   "source": [
    "import torch\n",
    "import torch.nn as nn\n",
    "from mmf.common.registry import registry\n",
    "from mmf.models.base_model import BaseModel\n",
    "from mmf.modules.embeddings import ProjectionEmbedding #Haoyun: to be checked\n",
    "from mmf.utils.build import build_classifier_layer, build_image_encoder #Haoyun: to be checked"
   ]
  },
  {
   "cell_type": "code",
   "execution_count": 2,
   "id": "601cdafa",
   "metadata": {},
   "outputs": [],
   "source": [
    "@registry.register_model(\"concat_vl\")\n",
    "class LanguageAndVisionConcat(BaseModel):\n",
    "    def __init__(self, config, *args, **kargs):\n",
    "        #config contains all the information you stored \n",
    "        #in this model's config (hyperparameters)\n",
    "        super().__init__(config, *args, **kargs)\n",
    "     \n",
    "    #This classmethod tells MMF where to look for default config of this model\n",
    "    #Haoyun: what's difference between init config and this config_path?\n",
    "    @classmethod\n",
    "    def config_path(cls):\n",
    "        return \"configs/models/concat_vl.yaml\" #Haoyun: to be checked\n",
    "    \n",
    "    def build(self):\n",
    "        #Haoyun: self.config file to be checked\n",
    "        self.language_module = ProjectionEmbedding(**self.config.text_encoder.params)\n",
    "        self.vision_module = build_image_encoder(self.config.image_encoder)\n",
    "        self.fusion = nn.Linear(**self.config.fusion.params)\n",
    "        self.dropout = nn.Dropout(self.config.dropout)\n",
    "        self.classifier = build_classifier_layer(self.config.classifier)\n",
    "        \n",
    "    def forward(self, sample_list):\n",
    "        \"\"\"\n",
    "        reminder: the model take a sample_list as input!\n",
    "        \"\"\"\n",
    "        text = sample_list[\"text\"]\n",
    "        image = sample_list[\"image\"]\n",
    "        \n",
    "        text_features = nn.functional.relu(self.language_module(text))\n",
    "        image_features == nn.functional.relu(self.vision_module(image))\n",
    "        \n",
    "        combined = torch.cat([text_features, image_features.squeeze(dim=1)], dim=1)\n",
    "        \n",
    "        fused = self.dropout(\n",
    "            nn.functional.relu(\n",
    "                self.fusion(combined)\n",
    "            )\n",
    "        )\n",
    "        \n",
    "        logits = self.classifier(fused)\n",
    "        \n",
    "       # For loss calculations (automatically done by MMF\n",
    "       # as per the loss defined in the config), \n",
    "       # we need to return a dict with \"scores\" key as logits\n",
    "        output = {\"scores\": logits}\n",
    "        \n",
    "        return output"
   ]
  },
  {
   "cell_type": "code",
   "execution_count": null,
   "id": "469bdf51",
   "metadata": {},
   "outputs": [],
   "source": []
  }
 ],
 "metadata": {
  "kernelspec": {
   "display_name": "Python [conda env:MMF_Env]",
   "language": "python",
   "name": "conda-env-MMF_Env-py"
  },
  "language_info": {
   "codemirror_mode": {
    "name": "ipython",
    "version": 3
   },
   "file_extension": ".py",
   "mimetype": "text/x-python",
   "name": "python",
   "nbconvert_exporter": "python",
   "pygments_lexer": "ipython3",
   "version": "3.9.12"
  },
  "toc": {
   "base_numbering": 1,
   "nav_menu": {},
   "number_sections": true,
   "sideBar": true,
   "skip_h1_title": false,
   "title_cell": "Table of Contents",
   "title_sidebar": "Contents",
   "toc_cell": false,
   "toc_position": {},
   "toc_section_display": true,
   "toc_window_display": false
  }
 },
 "nbformat": 4,
 "nbformat_minor": 5
}
